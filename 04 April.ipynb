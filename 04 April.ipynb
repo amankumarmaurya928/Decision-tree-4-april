{
 "cells": [
  {
   "cell_type": "code",
   "execution_count": 1,
   "id": "106f4c5d-7205-49ac-b8ce-3efd0455e755",
   "metadata": {},
   "outputs": [
    {
     "data": {
      "text/plain": [
       "\"A decision tree algorithm is a machine learning algorithm that uses a decision tree to make predictions. It follows a\\n   tree-like model of decisions and their possible consequences. The algorithm works by recursively splitting the data \\n   into subsets based on the most significant feature at each node of the tree.\\n  \\n   In Decision Trees, for predicting a class label for a record we start from the root of the tree. We compare the values\\n   of the root attribute with the record's attribute. On the basis of comparison, we follow the branch corresponding to\\n   that value and jump to the next node.\\n   \\n   Example:- Let’s say we have a problem to predict whether a customer will pay his renewal premium with an insurance \\n   company (yes/ no). Here we know that the income of customers is a significant variable but the insurance company does\\n   not have income details for all customers. Now, as we know this is an important variable, then we can build a decision\\n   tree to predict customer income based on occupation, product, and various other variables. In this case, we are\\n   predicting values for the continuous variables\\n   \""
      ]
     },
     "execution_count": 1,
     "metadata": {},
     "output_type": "execute_result"
    }
   ],
   "source": [
    "# Q1\n",
    "'''A decision tree algorithm is a machine learning algorithm that uses a decision tree to make predictions. It follows a\n",
    "   tree-like model of decisions and their possible consequences. The algorithm works by recursively splitting the data \n",
    "   into subsets based on the most significant feature at each node of the tree.\n",
    "  \n",
    "   In Decision Trees, for predicting a class label for a record we start from the root of the tree. We compare the values\n",
    "   of the root attribute with the record's attribute. On the basis of comparison, we follow the branch corresponding to\n",
    "   that value and jump to the next node.\n",
    "   \n",
    "   Example:- Let’s say we have a problem to predict whether a customer will pay his renewal premium with an insurance \n",
    "   company (yes/ no). Here we know that the income of customers is a significant variable but the insurance company does\n",
    "   not have income details for all customers. Now, as we know this is an important variable, then we can build a decision\n",
    "   tree to predict customer income based on occupation, product, and various other variables. In this case, we are\n",
    "   predicting values for the continuous variables\n",
    "   '''"
   ]
  },
  {
   "cell_type": "code",
   "execution_count": 2,
   "id": "90bbd35b-a7ba-4e1a-85a0-08f2897703a1",
   "metadata": {},
   "outputs": [
    {
     "data": {
      "text/plain": [
       "'First, we calculate the percentage of records that fall into each class (p). \\n   Then we square those numbers and add them together.\\n   Finally, we subtract that number from one.\\n   Because decision trees split data into more than one group, our final step is to calculate the weighted average\\n   of the Gini Impurity in each group.\\n   '"
      ]
     },
     "execution_count": 2,
     "metadata": {},
     "output_type": "execute_result"
    }
   ],
   "source": [
    "# Q2\n",
    "'''First, we calculate the percentage of records that fall into each class (p). \n",
    "   Then we square those numbers and add them together.\n",
    "   Finally, we subtract that number from one.\n",
    "   Because decision trees split data into more than one group, our final step is to calculate the weighted average\n",
    "   of the Gini Impurity in each group.\n",
    "   '''"
   ]
  },
  {
   "cell_type": "code",
   "execution_count": 3,
   "id": "76b8ac79-1c3f-4da9-9e9b-47956c16d17e",
   "metadata": {},
   "outputs": [
    {
     "data": {
      "text/plain": [
       "\"A Binary Decision Tree is a structure based on a sequential decision process. Starting from the root, a feature is\\n   evaluated and one of the two branches is selected. This procedure is repeated until a final leaf is reached, which\\n   normally represents the classification target you're looking for.\\n   Binary decisions\\nConsider an input dataset, X:\\n   X = {mean(x1), mean(x2),.... , mean(xn)} \\n                                      Where, mean(xi) belongs to Rm.\\n\""
      ]
     },
     "execution_count": 3,
     "metadata": {},
     "output_type": "execute_result"
    }
   ],
   "source": [
    "# Q3\n",
    "'''A Binary Decision Tree is a structure based on a sequential decision process. Starting from the root, a feature is\n",
    "   evaluated and one of the two branches is selected. This procedure is repeated until a final leaf is reached, which\n",
    "   normally represents the classification target you're looking for.\n",
    "   Binary decisions\n",
    "Consider an input dataset, X:\n",
    "   X = {mean(x1), mean(x2),.... , mean(xn)} \n",
    "                                      Where, mean(xi) belongs to Rm.\n",
    "'''"
   ]
  },
  {
   "cell_type": "code",
   "execution_count": 4,
   "id": "cb16e530-4dca-4a3c-86a6-bbc4cae8b0d4",
   "metadata": {},
   "outputs": [
    {
     "data": {
      "text/plain": [
       "\"A decision tree model is formed using a hierarchy of branches. Each path from the root node through internal nodes to\\n   a leaf node represents a classification decision rule. These decision tree pathways can also be represented as \\n   'if-then' rules.\\n   \\n   A decision tree typically starts with a single node, which branches into possible outcomes. Each of those outcomes \\n   leads to additional nodes, which branch off into other possibilities. This gives it a treelike shape.\\n   There are three different types of nodes: chance nodes, decision nodes, and end nodes. A chance node, represented by\\n   a circle, shows the probabilities of certain results. \\n   A decision node, represented by a square, shows a decision to be made, and an end node shows the final outcome of\\n   a decision path.\\n   \""
      ]
     },
     "execution_count": 4,
     "metadata": {},
     "output_type": "execute_result"
    }
   ],
   "source": [
    "# Q4\n",
    "'''A decision tree model is formed using a hierarchy of branches. Each path from the root node through internal nodes to\n",
    "   a leaf node represents a classification decision rule. These decision tree pathways can also be represented as \n",
    "   'if-then' rules.\n",
    "   \n",
    "   A decision tree typically starts with a single node, which branches into possible outcomes. Each of those outcomes \n",
    "   leads to additional nodes, which branch off into other possibilities. This gives it a treelike shape.\n",
    "   There are three different types of nodes: chance nodes, decision nodes, and end nodes. A chance node, represented by\n",
    "   a circle, shows the probabilities of certain results. \n",
    "   A decision node, represented by a square, shows a decision to be made, and an end node shows the final outcome of\n",
    "   a decision path.\n",
    "   '''"
   ]
  },
  {
   "cell_type": "code",
   "execution_count": 5,
   "id": "f85fb03f-5a79-4cb9-a499-33e1b8597a84",
   "metadata": {},
   "outputs": [
    {
     "data": {
      "text/plain": [
       "'A Confusion matrix is an N x N matrix used for evaluating the performance of a classification model, where N is the \\n   total number of target classes. The matrix compares the actual target values with those predicted by the machine \\n   learning model.\\n   A confusion matrix represents the prediction summary in matrix form. It shows how many prediction are correct and\\n   incorrect per class. It helps in understanding the classes that are being confused by model as other class.\\n'"
      ]
     },
     "execution_count": 5,
     "metadata": {},
     "output_type": "execute_result"
    }
   ],
   "source": [
    "# Q5\n",
    "'''A Confusion matrix is an N x N matrix used for evaluating the performance of a classification model, where N is the \n",
    "   total number of target classes. The matrix compares the actual target values with those predicted by the machine \n",
    "   learning model.\n",
    "   A confusion matrix represents the prediction summary in matrix form. It shows how many prediction are correct and\n",
    "   incorrect per class. It helps in understanding the classes that are being confused by model as other class.\n",
    "'''"
   ]
  },
  {
   "cell_type": "code",
   "execution_count": 6,
   "id": "1855b111-669e-4203-9b7d-82ca47b3956b",
   "metadata": {},
   "outputs": [
    {
     "data": {
      "text/plain": [
       "'F1 Score becomes 1 only when precision and recall are both 1. F1 score becomes high only when both precision and \\n   recall are high. F1 score is the harmonic mean of precision and recall and is a better measure than accuracy.\\n   In the pregnancy example,\\n           F1 Score = 2* ( 0.857 * 0.75)/(0.857 + 0.75) = 0.799.\\n   '"
      ]
     },
     "execution_count": 6,
     "metadata": {},
     "output_type": "execute_result"
    }
   ],
   "source": [
    "# Q6\n",
    "'''F1 Score becomes 1 only when precision and recall are both 1. F1 score becomes high only when both precision and \n",
    "   recall are high. F1 score is the harmonic mean of precision and recall and is a better measure than accuracy.\n",
    "   In the pregnancy example,\n",
    "           F1 Score = 2* ( 0.857 * 0.75)/(0.857 + 0.75) = 0.799.\n",
    "   '''"
   ]
  },
  {
   "cell_type": "code",
   "execution_count": 7,
   "id": "fdae5131-7e16-4b06-95f5-b42de35f3113",
   "metadata": {},
   "outputs": [
    {
     "data": {
      "text/plain": [
       "'Metrics like accuracy, precision, recall are good ways to evaluate classification models for balanced datasets,\\n   but if the data is imbalanced then other methods like ROC/AUC perform better in evaluating the model performance.\\n   Evaluation metrics are used to measure the quality of the statistical or machine learning model. Evaluating machine\\n   learning models or algorithms is essential for any project. There are many different types of evaluation metrics \\n   available to test a model.\\n   '"
      ]
     },
     "execution_count": 7,
     "metadata": {},
     "output_type": "execute_result"
    }
   ],
   "source": [
    "# Q7\n",
    "'''Metrics like accuracy, precision, recall are good ways to evaluate classification models for balanced datasets,\n",
    "   but if the data is imbalanced then other methods like ROC/AUC perform better in evaluating the model performance.\n",
    "   Evaluation metrics are used to measure the quality of the statistical or machine learning model. Evaluating machine\n",
    "   learning models or algorithms is essential for any project. There are many different types of evaluation metrics \n",
    "   available to test a model.\n",
    "   '''"
   ]
  },
  {
   "cell_type": "code",
   "execution_count": 8,
   "id": "13d1589c-1cbe-4259-9941-38408dae43b1",
   "metadata": {},
   "outputs": [
    {
     "data": {
      "text/plain": [
       "'Email Spam detection:This is one of the example where Precision is more important than Recall.\\nQuick Recap: \\n            Precision: This tells when you predict something positive, how many times they were actually positive.\\n    Precision is defined as follows:\\n            Precision = T P T P + F P. Note: A model that produces no false positives has a precision of 1.0.\\n   In an imbalanced classification problem with two classes, precision is calculated as the number of true positives \\n   divided by the total number of true positives and false positives. The result is a value between 0.0 for no precision\\n   and 1.0 for full or perfect precision.\\n   '"
      ]
     },
     "execution_count": 8,
     "metadata": {},
     "output_type": "execute_result"
    }
   ],
   "source": [
    "# Q8\n",
    "'''Email Spam detection:This is one of the example where Precision is more important than Recall.\n",
    "Quick Recap: \n",
    "            Precision: This tells when you predict something positive, how many times they were actually positive.\n",
    "    Precision is defined as follows:\n",
    "            Precision = T P T P + F P. Note: A model that produces no false positives has a precision of 1.0.\n",
    "   In an imbalanced classification problem with two classes, precision is calculated as the number of true positives \n",
    "   divided by the total number of true positives and false positives. The result is a value between 0.0 for no precision\n",
    "   and 1.0 for full or perfect precision.\n",
    "   '''"
   ]
  },
  {
   "cell_type": "code",
   "execution_count": 10,
   "id": "a5b60bb8-0c9a-4b5e-bdb4-89557e8bb657",
   "metadata": {},
   "outputs": [
    {
     "data": {
      "text/plain": [
       "'Email Spam detection:\\n                This is one of the example where Precision is more important than Recall. \\n   Quick Recap:\\n                Precision: \\n                    This tells when you predict something positive, how many times they were actually positive.\\n    Recall is a metric that quantifies the number of correct positive predictions made out of all positive predictions \\n    that could have been made. Unlike precision that only comments on the correct positive predictions out of all\\n    positive predictions, recall provides an indication of missed positive predictions.\\n    Accuracy, confusion matrix, log-loss, and AUC-ROC are some of the most popular metrics. Precision-recall is a widely\\n    used metrics for classification problems.\\n    '"
      ]
     },
     "execution_count": 10,
     "metadata": {},
     "output_type": "execute_result"
    }
   ],
   "source": [
    "# Q9\n",
    "'''Email Spam detection:\n",
    "                This is one of the example where Precision is more important than Recall. \n",
    "   Quick Recap:\n",
    "                Precision: \n",
    "                    This tells when you predict something positive, how many times they were actually positive.\n",
    "    Recall is a metric that quantifies the number of correct positive predictions made out of all positive predictions \n",
    "    that could have been made. Unlike precision that only comments on the correct positive predictions out of all\n",
    "    positive predictions, recall provides an indication of missed positive predictions.\n",
    "    Accuracy, confusion matrix, log-loss, and AUC-ROC are some of the most popular metrics. Precision-recall is a widely\n",
    "    used metrics for classification problems.\n",
    "    '''"
   ]
  },
  {
   "cell_type": "code",
   "execution_count": null,
   "id": "be2063a3-67b9-4601-b886-88d9134cf41b",
   "metadata": {},
   "outputs": [],
   "source": []
  }
 ],
 "metadata": {
  "kernelspec": {
   "display_name": "Python 3 (ipykernel)",
   "language": "python",
   "name": "python3"
  },
  "language_info": {
   "codemirror_mode": {
    "name": "ipython",
    "version": 3
   },
   "file_extension": ".py",
   "mimetype": "text/x-python",
   "name": "python",
   "nbconvert_exporter": "python",
   "pygments_lexer": "ipython3",
   "version": "3.10.8"
  }
 },
 "nbformat": 4,
 "nbformat_minor": 5
}
